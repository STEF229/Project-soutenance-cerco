{
 "cells": [
  {
   "cell_type": "code",
   "execution_count": 1,
   "metadata": {},
   "outputs": [
    {
     "name": "stdout",
     "output_type": "stream",
     "text": [
      "['Francois', 'hector', 'nel']\n",
      "3\n"
     ]
    }
   ],
   "source": [
    "import cv2 \n",
    "import os\n",
    "import numpy as np\n",
    "import face_recognition\n",
    "from PIL import Image\n",
    "\n",
    "#### path ='images/carte'\n",
    "images = []\n",
    "names = []\n",
    "path = 'images/carte'\n",
    "mylist = os.listdir(path)\n",
    "for cl in mylist:\n",
    "    curImg = cv2.imread(f'{path}/{cl}')\n",
    "    a = os.path.splitext(cl)[0]\n",
    "    names.append(a)\n",
    "    images.append(curImg)\n",
    "      \n",
    "    '''img = Image.open(f'{path}/{cl}')\n",
    "    img = img.resize((640,480),Image.ANTIALIAS)\n",
    "    img.save(f'{path}/{cl}')'''\n",
    "\n",
    "print(names)\n",
    "\n",
    "def findencodings(images):\n",
    "    i = 1\n",
    "    encodelist = []\n",
    "    for img in images:\n",
    "        img = cv2.cvtColor(img,cv2.COLOR_BGR2RGB)\n",
    "        encode = face_recognition.face_encodings(img)[0]\n",
    "        encodelist.append(encode)\n",
    "        i += 1\n",
    "    return(encodelist)\n",
    "\n",
    "encodelistknown = findencodings(images)\n",
    "print(len(encodelistknown))\n",
    "\n",
    "cap = cv2.VideoCapture(0) \n",
    "while True:\n",
    "    sucess, img = cap.read()\n",
    "    imgS = cv2.resize(img,(0,0),None,0.25,0.25)\n",
    "    imgS = cv2.cvtColor(imgS,cv2.COLOR_BGR2RGB)\n",
    "    \n",
    "    faceCurFrame = face_recognition.face_locations(imgS)\n",
    "    encodecurframe = face_recognition.face_encodings(imgS,faceCurFrame)\n",
    "    \n",
    "    for encodeFace,faceLoc in zip(encodecurframe,faceCurFrame):\n",
    "        matches = face_recognition.compare_faces(encodelistknown,encodeFace)\n",
    "        facedis = face_recognition.face_distance(encodelistknown,encodeFace)\n",
    "        matchIndex = np.argmin(facedis)\n",
    "        \n",
    "        if matches[matchIndex]:\n",
    "            name = names[matchIndex].upper()\n",
    "            y1,x2,y2,x1 = faceLoc\n",
    "            y1,x2,y2,x1 = y1*4,x2*4,y2*4,x1*4\n",
    "            cv2.rectangle(img,(x1,y1),(x2,y2),(255,0,255),2)\n",
    "            cv2.rectangle(img,(x1,y2-35),(x2,y2),(0,255,0),cv2.FILLED)\n",
    "            cv2.putText(img,name,(x1+6,y2-6),cv2.FONT_HERSHEY_COMPLEX,1,(255,255,255),1)\n",
    "    cv2.imshow('text',img)\n",
    "    if  (cv2.waitKey(1) & 0xFF == ord('q')):\n",
    "        break\n",
    "cap.release()\n",
    "cv2.destroyAllWindows()"
   ]
  }
 ],
 "metadata": {
  "kernelspec": {
   "display_name": "Python 3",
   "language": "python",
   "name": "python3"
  },
  "language_info": {
   "codemirror_mode": {
    "name": "ipython",
    "version": 3
   },
   "file_extension": ".py",
   "mimetype": "text/x-python",
   "name": "python",
   "nbconvert_exporter": "python",
   "pygments_lexer": "ipython3",
   "version": "3.7.7"
  }
 },
 "nbformat": 4,
 "nbformat_minor": 4
}
