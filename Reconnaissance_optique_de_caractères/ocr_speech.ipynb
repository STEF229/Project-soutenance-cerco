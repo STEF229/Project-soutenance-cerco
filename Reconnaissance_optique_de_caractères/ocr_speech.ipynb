{
 "cells": [
  {
   "cell_type": "code",
   "execution_count": 1,
   "metadata": {},
   "outputs": [
    {
     "name": "stdout",
     "output_type": "stream",
     "text": [
      "debut\n",
      "oRT DE MASQUES\n",
      "PORT DE MASQUES\n",
      "PORT DE MASQUES\n",
      "\n",
      "  \n",
      "\n",
      "OBLIGATOIRES —\n",
      "port DE MASQUES\n",
      "PORT DE MASQUES\n",
      "PORT DE MASQUES\n",
      "LAVAGE DES MAINS\n",
      "ARIICATOIRES —\n",
      "PORT DE MASQUES\n",
      "VAGE DES MAINS\n",
      "\n",
      "OBLIGATOIRES\n"
     ]
    }
   ],
   "source": [
    "import pytesseract as pt\n",
    "import cv2\n",
    "import pyttsx3\n",
    "cap = cv2.VideoCapture(0 + cv2.CAP_DSHOW)\n",
    "pt.pytesseract.tesseract_cmd = r'C:\\Users\\STEF\\AppData\\Local\\Tesseract-OCR\\tesseract.exe'\n",
    "print(\"debut\")\n",
    "while True:\n",
    "    sucess, img = cap.read()\n",
    "    cv2.imwrite('texte.jpg',img)\n",
    "    img = cv2.imread('texte.jpg')\n",
    "    texte = pt.image_to_string(img)\n",
    "    if len(texte)> 0:\n",
    "        print (texte)\n",
    "        engine = pyttsx3.init()\n",
    "        engine.say(texte)\n",
    "        engine.runAndWait()\n",
    "        cv2.imshow('text',img)\n",
    "        if  (cv2.waitKey(200) & 0xFF == ord('q')):\n",
    "            break\n",
    "    else:\n",
    "        cv2.imshow('text',img)\n",
    "        if  (cv2.waitKey(200) & 0xFF == ord('q')):\n",
    "            break\n",
    "cap.release()\n",
    "cv2.destroyAllWindows()"
   ]
  }
 ],
 "metadata": {
  "kernelspec": {
   "display_name": "Python 3",
   "language": "python",
   "name": "python3"
  },
  "language_info": {
   "codemirror_mode": {
    "name": "ipython",
    "version": 3
   },
   "file_extension": ".py",
   "mimetype": "text/x-python",
   "name": "python",
   "nbconvert_exporter": "python",
   "pygments_lexer": "ipython3",
   "version": "3.7.7"
  }
 },
 "nbformat": 4,
 "nbformat_minor": 4
}
